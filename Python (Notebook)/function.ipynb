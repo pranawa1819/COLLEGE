{
 "cells": [
  {
   "cell_type": "markdown",
   "metadata": {},
   "source": [
    ">### Function"
   ]
  },
  {
   "cell_type": "code",
   "execution_count": 15,
   "metadata": {},
   "outputs": [
    {
     "name": "stdout",
     "output_type": "stream",
     "text": [
      "function is called\n"
     ]
    }
   ],
   "source": [
    "# we use snake case\n",
    "def function_name():\n",
    "  print(\"function is called\")\n",
    "  \n",
    "function_name()"
   ]
  },
  {
   "cell_type": "code",
   "execution_count": 16,
   "metadata": {},
   "outputs": [
    {
     "name": "stdout",
     "output_type": "stream",
     "text": [
      "The age is 20 and height is 5.4\n"
     ]
    }
   ],
   "source": [
    "def func_with_arguments(age,height):\n",
    "    print(f'The age is {age} and height is {height}')\n",
    "    \n",
    "#positional function call\n",
    "func_with_arguments(20,5.4)"
   ]
  },
  {
   "cell_type": "code",
   "execution_count": 17,
   "metadata": {},
   "outputs": [
    {
     "name": "stdout",
     "output_type": "stream",
     "text": [
      "The age is 20 and height is 5.5\n"
     ]
    }
   ],
   "source": [
    "#key word based function call\n",
    "func_with_arguments(age =20,height=5.5)"
   ]
  },
  {
   "cell_type": "code",
   "execution_count": 20,
   "metadata": {},
   "outputs": [
    {
     "name": "stdout",
     "output_type": "stream",
     "text": [
      "The value of args are(1, 2, 3, 4)\n"
     ]
    }
   ],
   "source": [
    "# args : we can use it as a parameter to send variable length of data \n",
    "#kwargs\n",
    "\n",
    "def func_with_args(*args):\n",
    "    print(f'The value of args are{args}')\n",
    "\n",
    "func_with_args(1,2,3,4)"
   ]
  },
  {
   "cell_type": "code",
   "execution_count": 21,
   "metadata": {},
   "outputs": [
    {
     "name": "stdout",
     "output_type": "stream",
     "text": [
      "The value of args are(12, 8)\n"
     ]
    }
   ],
   "source": [
    "func_with_args(12,8)"
   ]
  },
  {
   "cell_type": "code",
   "execution_count": 22,
   "metadata": {},
   "outputs": [
    {
     "name": "stdout",
     "output_type": "stream",
     "text": [
      "The value of args are()\n"
     ]
    }
   ],
   "source": [
    "func_with_args()"
   ]
  },
  {
   "cell_type": "code",
   "execution_count": 24,
   "metadata": {},
   "outputs": [
    {
     "name": "stdout",
     "output_type": "stream",
     "text": [
      "The age is 1 . The value of args are()\n"
     ]
    }
   ],
   "source": [
    "def func_with_args(age, *args):\n",
    "    print(f'The age is {age} . The value of args are{args}')\n",
    "\n",
    "func_with_args(1)"
   ]
  },
  {
   "cell_type": "code",
   "execution_count": 25,
   "metadata": {},
   "outputs": [
    {
     "name": "stdout",
     "output_type": "stream",
     "text": [
      "The value of args are: {'a': 1, 'b': 6.7, 'c': 'value', 'd': True}\n"
     ]
    }
   ],
   "source": [
    "def func_with_kwargs(**kwargs):\n",
    "    print(f'The value of args are: {kwargs}')\n",
    "    \n",
    "func_with_kwargs(a=1,b=6.7, c='value',d=True)"
   ]
  },
  {
   "cell_type": "code",
   "execution_count": 26,
   "metadata": {},
   "outputs": [
    {
     "name": "stdout",
     "output_type": "stream",
     "text": [
      "The value of args are: {}\n"
     ]
    }
   ],
   "source": [
    "func_with_kwargs()"
   ]
  },
  {
   "cell_type": "code",
   "execution_count": null,
   "metadata": {},
   "outputs": [],
   "source": []
  }
 ],
 "metadata": {
  "kernelspec": {
   "display_name": "pranawa",
   "language": "python",
   "name": "python3"
  },
  "language_info": {
   "codemirror_mode": {
    "name": "ipython",
    "version": 3
   },
   "file_extension": ".py",
   "mimetype": "text/x-python",
   "name": "python",
   "nbconvert_exporter": "python",
   "pygments_lexer": "ipython3",
   "version": "3.13.0"
  }
 },
 "nbformat": 4,
 "nbformat_minor": 2
}
