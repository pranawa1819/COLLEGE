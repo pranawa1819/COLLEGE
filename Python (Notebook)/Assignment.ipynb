{
 "cells": [
  {
   "cell_type": "markdown",
   "metadata": {},
   "source": [
    "#### Write a function named count_vowels that takes a string and returns the total number of vowels in it."
   ]
  },
  {
   "cell_type": "code",
   "execution_count": null,
   "metadata": {},
   "outputs": [
    {
     "name": "stdout",
     "output_type": "stream",
     "text": [
      "The string is : pranawa\n",
      "The total number of vowels in the string is :3\n"
     ]
    }
   ],
   "source": [
    "def count_vowels(text):\n",
    "    print(f'The string is : {text}')\n",
    "    vowels = {'a','e','i','o','u','A','E','I','O','U'} #Define a set of vowels. \n",
    "    count = 0  #Initialize a counter variable \n",
    "    for char in s:   #Start a loop that iterates through each character char in the input string s.\n",
    "        if char in vowels:  # Check if the current character (char) is in the vowels set. If it is, it means char is a vowel.\n",
    "            count +=1\n",
    "    return count \n",
    "     \n",
    "string = input(\"Enter the string:\")\n",
    "vowel_count=count_vowels(string)\n",
    "print(f'The total number of vowels in the string is :{vowel_count}')  \n"
   ]
  },
  {
   "cell_type": "markdown",
   "metadata": {},
   "source": [
    "#### Write a function named count_vowels that takes a string and returns the number of appearance of each vowels in it."
   ]
  },
  {
   "cell_type": "code",
   "execution_count": 5,
   "metadata": {},
   "outputs": [
    {
     "name": "stdout",
     "output_type": "stream",
     "text": [
      "h\n",
      "e\n",
      "l\n",
      "l\n",
      "o\n",
      " \n",
      "w\n",
      "o\n",
      "r\n",
      "l\n",
      "d\n",
      "{}\n"
     ]
    }
   ],
   "source": [
    "def count_vowels(s : str):\n",
    "   \n",
    "    vowels = {'aeiou'}\n",
    "    individual_vowels_count = {}\n",
    "    for char in s.lower():\n",
    "     print(char)\n",
    "     if char in vowels:  \n",
    "         if char not in individual_vowels_count:\n",
    "             individual_vowels_count[char] = 1\n",
    "         else:\n",
    "             individual_vowels_count[char] += 1\n",
    "    return individual_vowels_count\n",
    "                   \n",
    "print(count_vowels(\"hello world\"))\n",
    "   \n",
    "\n"
   ]
  }
 ],
 "metadata": {
  "kernelspec": {
   "display_name": "pranawa",
   "language": "python",
   "name": "python3"
  },
  "language_info": {
   "codemirror_mode": {
    "name": "ipython",
    "version": 3
   },
   "file_extension": ".py",
   "mimetype": "text/x-python",
   "name": "python",
   "nbconvert_exporter": "python",
   "pygments_lexer": "ipython3",
   "version": "3.13.0"
  }
 },
 "nbformat": 4,
 "nbformat_minor": 2
}
