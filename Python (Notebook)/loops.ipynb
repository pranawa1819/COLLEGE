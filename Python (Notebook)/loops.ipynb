{
 "cells": [
  {
   "cell_type": "markdown",
   "metadata": {},
   "source": [
    ">### LOOPS\n",
    "Switch,\n",
    "If else,\n",
    "for loop,\n",
    "while\n"
   ]
  },
  {
   "cell_type": "markdown",
   "metadata": {},
   "source": [
    ">#### If else"
   ]
  },
  {
   "cell_type": "code",
   "execution_count": 4,
   "metadata": {},
   "outputs": [
    {
     "name": "stdout",
     "output_type": "stream",
     "text": [
      "if block statement exec:\n",
      "Pranawa\n",
      "Outside of if block\n"
     ]
    }
   ],
   "source": [
    "condition = True\n",
    "if condition:\n",
    "   print(\"if block statement exec:\")\n",
    "   print(\"Pranawa\")\n",
    "   \n",
    "print(\"Outside of if block\")"
   ]
  },
  {
   "cell_type": "code",
   "execution_count": 5,
   "metadata": {},
   "outputs": [
    {
     "name": "stdout",
     "output_type": "stream",
     "text": [
      "Outside of if block\n"
     ]
    }
   ],
   "source": [
    "condition = False\n",
    "if condition:\n",
    "   print(\"if block statement exec:\")\n",
    "   print(\"Pranawa\")\n",
    "   \n",
    "print(\"Outside of if block\")"
   ]
  },
  {
   "cell_type": "code",
   "execution_count": 9,
   "metadata": {},
   "outputs": [
    {
     "name": "stdout",
     "output_type": "stream",
     "text": [
      "Outside of if block\n"
     ]
    }
   ],
   "source": [
    "condition = [] # empty list treat the condition as false\n",
    "if condition:\n",
    "   print(\"if block statement exec:\")\n",
    "   print(\"Pranawa\")\n",
    "   \n",
    "print(\"Outside of if block\")"
   ]
  },
  {
   "cell_type": "code",
   "execution_count": 8,
   "metadata": {},
   "outputs": [
    {
     "name": "stdout",
     "output_type": "stream",
     "text": [
      "if block statement exec:\n",
      "Pranawa\n",
      "Outside of if block\n"
     ]
    }
   ],
   "source": [
    "condition = [1] # list treat the condition as true\n",
    "if condition:\n",
    "   print(\"if block statement exec:\")\n",
    "   print(\"Pranawa\")\n",
    "   \n",
    "print(\"Outside of if block\")"
   ]
  },
  {
   "cell_type": "code",
   "execution_count": null,
   "metadata": {},
   "outputs": [
    {
     "name": "stdout",
     "output_type": "stream",
     "text": [
      "Outside of if block\n"
     ]
    }
   ],
   "source": [
    "condition = { }# empty dictionary treat the condition as false\n",
    "if condition:\n",
    "   print(\"if block statement exec:\")\n",
    "   print(\"Pranawa\")\n",
    "   \n",
    "print(\"Outside of if block\")"
   ]
  },
  {
   "cell_type": "code",
   "execution_count": 11,
   "metadata": {},
   "outputs": [
    {
     "name": "stdout",
     "output_type": "stream",
     "text": [
      "if block statement exec:\n",
      "Pranawa\n",
      "Outside of if block\n"
     ]
    }
   ],
   "source": [
    "condition = {'a':12 }#  dictionary treat the condition as true\n",
    "if condition:\n",
    "   print(\"if block statement exec:\")\n",
    "   print(\"Pranawa\")\n",
    "   \n",
    "print(\"Outside of if block\")"
   ]
  },
  {
   "cell_type": "code",
   "execution_count": 12,
   "metadata": {},
   "outputs": [
    {
     "name": "stdout",
     "output_type": "stream",
     "text": [
      "If block\n"
     ]
    }
   ],
   "source": [
    "condition = True\n",
    "if condition:\n",
    "    print(\"If block\")\n",
    "    \n",
    "else:\n",
    "    print(\"Else block\")"
   ]
  },
  {
   "cell_type": "code",
   "execution_count": 13,
   "metadata": {},
   "outputs": [
    {
     "name": "stdout",
     "output_type": "stream",
     "text": [
      "Else block\n"
     ]
    }
   ],
   "source": [
    "condition = False\n",
    "if condition:\n",
    "    print(\"If block\")\n",
    "    \n",
    "else:\n",
    "    print(\"Else block\")"
   ]
  },
  {
   "cell_type": "code",
   "execution_count": 21,
   "metadata": {},
   "outputs": [
    {
     "name": "stdout",
     "output_type": "stream",
     "text": [
      "If block\n"
     ]
    }
   ],
   "source": [
    "condition = True\n",
    "\n",
    "print(\"If block\") if condition else print(\"Else block\") # it is in the format of ternary operator\n",
    "\n",
    "    \n"
   ]
  },
  {
   "cell_type": "code",
   "execution_count": 23,
   "metadata": {},
   "outputs": [
    {
     "name": "stdout",
     "output_type": "stream",
     "text": [
      "1\n"
     ]
    }
   ],
   "source": [
    "condition = True\n",
    "value =1 if condition else  2\n",
    "print(value)"
   ]
  },
  {
   "cell_type": "code",
   "execution_count": 24,
   "metadata": {},
   "outputs": [
    {
     "name": "stdout",
     "output_type": "stream",
     "text": [
      "Var is smaller than 5\n"
     ]
    }
   ],
   "source": [
    "var = 4\n",
    "if var>5:\n",
    "    print(\"Var is greater than 5\")\n",
    "elif var<5:\n",
    "    print(\"Var is smaller than 5\")\n",
    "    \n",
    "else:\n",
    "    print(\"Var is equal to 5\")\n",
    "    "
   ]
  },
  {
   "cell_type": "markdown",
   "metadata": {},
   "source": [
    ">#### Switch"
   ]
  },
  {
   "cell_type": "code",
   "execution_count": 27,
   "metadata": {},
   "outputs": [
    {
     "name": "stdout",
     "output_type": "stream",
     "text": [
      "case 4\n"
     ]
    }
   ],
   "source": [
    "x=2\n",
    "exp =3*x-2\n",
    "#switch condition\n",
    "match (exp):\n",
    "    case 1:              # to copy shift alt down arrow\n",
    "        print(\"case 1\")\n",
    "    case 4: \n",
    "        print(\"case 4\")\n",
    "    case _: \n",
    "        print(\"case _\")\n",
    "    \n"
   ]
  },
  {
   "cell_type": "markdown",
   "metadata": {},
   "source": [
    ">#### While loop"
   ]
  },
  {
   "cell_type": "code",
   "execution_count": 28,
   "metadata": {},
   "outputs": [
    {
     "name": "stdout",
     "output_type": "stream",
     "text": [
      "count = 0\n",
      "count = 1\n",
      "count = 2\n",
      "count = 3\n",
      "count = 4\n",
      "count = 5\n",
      "count = 6\n",
      "count = 7\n",
      "count = 8\n",
      "count = 9\n",
      "count = 10\n"
     ]
    }
   ],
   "source": [
    "# while loop\n",
    "count = 0\n",
    "while count<=10:\n",
    "    print(f\"{count = }\")\n",
    "    count += 1\n",
    "\n"
   ]
  },
  {
   "cell_type": "markdown",
   "metadata": {},
   "source": [
    ">#### For Loop"
   ]
  },
  {
   "cell_type": "code",
   "execution_count": 29,
   "metadata": {},
   "outputs": [
    {
     "data": {
      "text/plain": [
       "range(0, 5)"
      ]
     },
     "execution_count": 29,
     "metadata": {},
     "output_type": "execute_result"
    }
   ],
   "source": [
    "#For loop \n",
    "# # start ma upper bound , end ma open bound\n",
    "range(0,5,1)\n",
    "\n"
   ]
  },
  {
   "cell_type": "code",
   "execution_count": null,
   "metadata": {},
   "outputs": [
    {
     "data": {
      "text/plain": [
       "[0, 1, 2, 3, 4]"
      ]
     },
     "execution_count": 31,
     "metadata": {},
     "output_type": "execute_result"
    }
   ],
   "source": [
    "#Typecasting range into list\n",
    "list(range(0,5,1))"
   ]
  },
  {
   "cell_type": "code",
   "execution_count": 32,
   "metadata": {},
   "outputs": [
    {
     "name": "stdout",
     "output_type": "stream",
     "text": [
      "hello\n",
      "hello\n",
      "hello\n",
      "hello\n",
      "hello\n"
     ]
    }
   ],
   "source": [
    "for i in range(0,5,1):\n",
    "    print('hello')\n",
    "     "
   ]
  }
 ],
 "metadata": {
  "kernelspec": {
   "display_name": "pranawa",
   "language": "python",
   "name": "python3"
  },
  "language_info": {
   "codemirror_mode": {
    "name": "ipython",
    "version": 3
   },
   "file_extension": ".py",
   "mimetype": "text/x-python",
   "name": "python",
   "nbconvert_exporter": "python",
   "pygments_lexer": "ipython3",
   "version": "3.13.0"
  }
 },
 "nbformat": 4,
 "nbformat_minor": 2
}
