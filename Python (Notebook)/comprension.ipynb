{
 "cells": [
  {
   "cell_type": "code",
   "execution_count": 32,
   "metadata": {},
   "outputs": [
    {
     "name": "stdout",
     "output_type": "stream",
     "text": [
      "[1, 4, 9, 16]\n"
     ]
    }
   ],
   "source": [
    "l=[1,2,3,4]\n",
    "result =[]\n",
    "\n",
    "for ele in l:\n",
    "    squared_value= ele**2\n",
    "    result.append(squared_value)\n",
    "\n",
    "print(result)"
   ]
  },
  {
   "cell_type": "code",
   "execution_count": 33,
   "metadata": {},
   "outputs": [
    {
     "data": {
      "text/plain": [
       "4"
      ]
     },
     "execution_count": 33,
     "metadata": {},
     "output_type": "execute_result"
    }
   ],
   "source": [
    "ele # last assigned value"
   ]
  },
  {
   "cell_type": "code",
   "execution_count": 34,
   "metadata": {},
   "outputs": [
    {
     "data": {
      "text/plain": [
       "[1, 4, 9, 16]"
      ]
     },
     "execution_count": 34,
     "metadata": {},
     "output_type": "execute_result"
    }
   ],
   "source": [
    "#List comprension\n",
    "l=[1,2,3,4]\n",
    "\n",
    "[ele2**2 for ele2 in l]"
   ]
  },
  {
   "cell_type": "code",
   "execution_count": 35,
   "metadata": {},
   "outputs": [
    {
     "ename": "NameError",
     "evalue": "name 'ele2' is not defined",
     "output_type": "error",
     "traceback": [
      "\u001b[1;31m---------------------------------------------------------------------------\u001b[0m",
      "\u001b[1;31mNameError\u001b[0m                                 Traceback (most recent call last)",
      "Cell \u001b[1;32mIn[35], line 1\u001b[0m\n\u001b[1;32m----> 1\u001b[0m \u001b[43mele2\u001b[49m \u001b[38;5;66;03m# yo chaii list comprensive bhanda baira basdaina \u001b[39;00m\n",
      "\u001b[1;31mNameError\u001b[0m: name 'ele2' is not defined"
     ]
    }
   ],
   "source": [
    "ele2 # yo chaii list comprensive bhanda baira basdaina "
   ]
  },
  {
   "cell_type": "code",
   "execution_count": null,
   "metadata": {},
   "outputs": [
    {
     "name": "stdout",
     "output_type": "stream",
     "text": [
      "[1, 4, 27, 16, 125, 36, 343]\n"
     ]
    }
   ],
   "source": [
    "# given list l =[1,2,3,4,5,6,7]  odd index laii square garney even indax laiii cube garney and store in a new list\n",
    "\n",
    "l1=[1,2,3,4,5,6,7]\n",
    "result1=[]\n",
    "\n",
    "for ele1 in l1:\n",
    "\n",
    "    if l1.index(ele1)%2 ==  0:\n",
    "      cubed_value = ele1**3\n",
    "      result1.append(cubed_value)\n",
    "      \n",
    "    else:\n",
    "     squared_value = ele1**2\n",
    "     result1.append(squared_value)\n",
    "   \n",
    "      \n",
    "   \n",
    "print(result1)\n"
   ]
  },
  {
   "cell_type": "code",
   "execution_count": null,
   "metadata": {},
   "outputs": [
    {
     "data": {
      "text/plain": [
       "[1, 4, 27, 16, 125, 36, 343]"
      ]
     },
     "execution_count": 20,
     "metadata": {},
     "output_type": "execute_result"
    }
   ],
   "source": [
    "l1=[1,2,3,4,5,6,7]\n",
    "[\n",
    "    ele1**3 if l1.index(ele1)%2==0 else ele1**2 \n",
    "    for ele1 in l1\n",
    "]\n"
   ]
  },
  {
   "cell_type": "code",
   "execution_count": null,
   "metadata": {},
   "outputs": [
    {
     "data": {
      "text/plain": [
       "[125, 36, 343]"
      ]
     },
     "execution_count": 21,
     "metadata": {},
     "output_type": "execute_result"
    }
   ],
   "source": [
    "\"\"\"\n",
    "Create a new list by squaring the element in odd index and cubing the elements in even index only if the element is greater or equal to 5.\n",
    "\"\"\"\n",
    "[\n",
    "    ele **3 if l1.index(ele)%2==0 else ele**2\n",
    "    for ele in l1 \n",
    "    if ele>=5\n",
    "]"
   ]
  },
  {
   "cell_type": "code",
   "execution_count": null,
   "metadata": {},
   "outputs": [
    {
     "name": "stdout",
     "output_type": "stream",
     "text": [
      "{'a': 1, 'b': 8, 'c': 9, 'd': 64}\n"
     ]
    }
   ],
   "source": [
    "\"\"\"\n",
    "    Create a new dictionary using follwing condition:\n",
    "    1) square the odd values\n",
    "    2) cube the even values\n",
    "    3) keeping the same key\n",
    "\"\"\"\n",
    "\n",
    "d={'a':1,'b':2,'c':3,'d':4}\n",
    "result={}\n",
    "\n",
    "for k, v in d.items(): # d.items create the iterations  \n",
    "    if v%2==0:\n",
    "        value = v**3\n",
    "    else:\n",
    "        value = v**2\n",
    "    result[k]=value\n",
    "print(result)"
   ]
  },
  {
   "cell_type": "code",
   "execution_count": 54,
   "metadata": {},
   "outputs": [
    {
     "name": "stdout",
     "output_type": "stream",
     "text": [
      "{'b': 8, 'c': 9, 'd': 64}\n"
     ]
    }
   ],
   "source": [
    "d = {'a': 1, 'b': 2, 'c': 3, 'd': 4}\n",
    "result = {}\n",
    "\n",
    "for k, v in d.items():  # d.items() creates the iterations\n",
    "    if v >= 2:   \n",
    "        if v % 2 == 0:\n",
    "            value = v ** 3\n",
    "        else:\n",
    "            value = v ** 2\n",
    "        result[k] = value  \n",
    "\n",
    "print(result)\n"
   ]
  },
  {
   "cell_type": "code",
   "execution_count": null,
   "metadata": {},
   "outputs": [
    {
     "data": {
      "text/plain": [
       "{'b': 8, 'c': 9, 'd': 64}"
      ]
     },
     "execution_count": 28,
     "metadata": {},
     "output_type": "execute_result"
    }
   ],
   "source": [
    "{\n",
    "   k:\n",
    "   v**3  if v%2==0 else v**2 \n",
    "   for k,v in d.items()\n",
    "   if v>=2\n",
    "}"
   ]
  },
  {
   "cell_type": "code",
   "execution_count": 40,
   "metadata": {},
   "outputs": [
    {
     "name": "stdout",
     "output_type": "stream",
     "text": [
      "{'a': 2, 'b': 8, 'c': 9, 'd': 64}\n"
     ]
    }
   ],
   "source": [
    "for k, v in d.items():\n",
    "    if v%2 == 0:\n",
    "        value = v**3\n",
    "    else:\n",
    "        if v>2:\n",
    "          value= v**2\n",
    "        else:\n",
    "            value=(v**2)+1\n",
    "    result[k]=value\n",
    "print(result)\n",
    "        "
   ]
  },
  {
   "cell_type": "code",
   "execution_count": 43,
   "metadata": {},
   "outputs": [
    {
     "data": {
      "text/plain": [
       "{'a': 2, 'b': 8, 'c': 9, 'd': 64}"
      ]
     },
     "execution_count": 43,
     "metadata": {},
     "output_type": "execute_result"
    }
   ],
   "source": [
    "{\n",
    "   k:\n",
    "   v**3  if v%2==0 else  v**2 if v>2 else (v**2)+1\n",
    "   for k,v in d.items()\n",
    "   \n",
    "}"
   ]
  },
  {
   "cell_type": "markdown",
   "metadata": {},
   "source": [
    ">### Anonymous Function\n",
    "\n",
    ". We use lamda here\n",
    ". x,y,z:x+y+z"
   ]
  },
  {
   "cell_type": "code",
   "execution_count": 42,
   "metadata": {},
   "outputs": [
    {
     "data": {
      "text/plain": [
       "6"
      ]
     },
     "execution_count": 42,
     "metadata": {},
     "output_type": "execute_result"
    }
   ],
   "source": [
    "var =lambda x,y,z : x+y+z\n",
    "var(1,2,3)"
   ]
  },
  {
   "cell_type": "code",
   "execution_count": 44,
   "metadata": {},
   "outputs": [
    {
     "data": {
      "text/plain": [
       "int"
      ]
     },
     "execution_count": 44,
     "metadata": {},
     "output_type": "execute_result"
    }
   ],
   "source": [
    "type(1)"
   ]
  },
  {
   "cell_type": "code",
   "execution_count": 46,
   "metadata": {},
   "outputs": [],
   "source": [
    "def func():\n",
    "    pass"
   ]
  },
  {
   "cell_type": "code",
   "execution_count": null,
   "metadata": {},
   "outputs": [
    {
     "data": {
      "text/plain": [
       "<enumerate at 0x16ba5ef55d0>"
      ]
     },
     "execution_count": 45,
     "metadata": {},
     "output_type": "execute_result"
    }
   ],
   "source": [
    "l =['a','b','c']\n",
    "\n",
    "enumerate(l) # generator it store the representation"
   ]
  },
  {
   "cell_type": "code",
   "execution_count": 47,
   "metadata": {},
   "outputs": [
    {
     "data": {
      "text/plain": [
       "[(0, 'a'), (1, 'b'), (2, 'c')]"
      ]
     },
     "execution_count": 47,
     "metadata": {},
     "output_type": "execute_result"
    }
   ],
   "source": [
    "l =['a','b','c']\n",
    "\n",
    "list(enumerate(l))"
   ]
  },
  {
   "cell_type": "code",
   "execution_count": 49,
   "metadata": {},
   "outputs": [
    {
     "data": {
      "text/plain": [
       "<zip at 0x16ba5ec0c00>"
      ]
     },
     "execution_count": 49,
     "metadata": {},
     "output_type": "execute_result"
    }
   ],
   "source": [
    "l=[1,2,3,]\n",
    "l1=[4,5,6]\n",
    "zip(l,l1)"
   ]
  },
  {
   "cell_type": "code",
   "execution_count": null,
   "metadata": {},
   "outputs": [
    {
     "data": {
      "text/plain": [
       "[(1, 4), (2, 5), (3, 6)]"
      ]
     },
     "execution_count": 53,
     "metadata": {},
     "output_type": "execute_result"
    }
   ],
   "source": [
    "l=[1,2,3,100] # ignore 100\n",
    "l1=[4,5,6]\n",
    "list(\n",
    "zip(l,l1)\n",
    ")"
   ]
  },
  {
   "cell_type": "code",
   "execution_count": null,
   "metadata": {},
   "outputs": [],
   "source": [
    "map\n",
    "filter\n",
    "\n",
    "sum\n",
    "range\n",
    "sqrt(x)\n"
   ]
  }
 ],
 "metadata": {
  "kernelspec": {
   "display_name": "pranawa",
   "language": "python",
   "name": "python3"
  },
  "language_info": {
   "codemirror_mode": {
    "name": "ipython",
    "version": 3
   },
   "file_extension": ".py",
   "mimetype": "text/x-python",
   "name": "python",
   "nbconvert_exporter": "python",
   "pygments_lexer": "ipython3",
   "version": "3.13.0"
  }
 },
 "nbformat": 4,
 "nbformat_minor": 2
}
