{
 "cells": [
  {
   "cell_type": "code",
   "execution_count": 31,
   "metadata": {},
   "outputs": [],
   "source": [
    "filepath='temp.txt' # name of file \n"
   ]
  },
  {
   "cell_type": "code",
   "execution_count": 32,
   "metadata": {},
   "outputs": [],
   "source": [
    "file = open(filepath, 'w')   #write mode"
   ]
  },
  {
   "cell_type": "code",
   "execution_count": 33,
   "metadata": {},
   "outputs": [],
   "source": [
    "file.close() # we have to always close the file after opening the file"
   ]
  },
  {
   "cell_type": "code",
   "execution_count": 34,
   "metadata": {},
   "outputs": [],
   "source": [
    "file = open(filepath, 'w') \n",
    "file.write(\"This statement is written from write method.\")\n",
    "\n",
    "file.close()\n"
   ]
  },
  {
   "cell_type": "code",
   "execution_count": 35,
   "metadata": {},
   "outputs": [],
   "source": [
    "file = open(filepath, 'w') \n",
    "file.writelines(                  # with the help of writeline we can write multiple line of text\n",
    "       [\n",
    "           'first statement\\n'\n",
    "           'second statement\\n'\n",
    "           'third statement\\n'\n",
    "       ]\n",
    " ) \n",
    "file.close()"
   ]
  },
  {
   "cell_type": "code",
   "execution_count": 36,
   "metadata": {},
   "outputs": [],
   "source": [
    "file = open(filepath, 'a')  # append mode\n",
    "file.write('appended content\\n')\n",
    "file.close()"
   ]
  },
  {
   "cell_type": "code",
   "execution_count": 37,
   "metadata": {},
   "outputs": [
    {
     "name": "stdout",
     "output_type": "stream",
     "text": [
      "first statement\n",
      "second statement\n",
      "third statement\n",
      "appended content\n",
      "\n"
     ]
    }
   ],
   "source": [
    "file = open(filepath, 'r') # read mode\n",
    "data = file.read()\n",
    "print(data)\n",
    "file.close()"
   ]
  },
  {
   "cell_type": "code",
   "execution_count": 38,
   "metadata": {},
   "outputs": [
    {
     "name": "stdout",
     "output_type": "stream",
     "text": [
      "['first statement\\n', 'second statement\\n', 'third statement\\n', 'appended content\\n']\n"
     ]
    }
   ],
   "source": [
    "file = open(filepath, 'r') \n",
    "data = file.readlines() # make the inserted data into the element of list \n",
    "print(data)\n",
    "file.close()"
   ]
  },
  {
   "cell_type": "code",
   "execution_count": 39,
   "metadata": {},
   "outputs": [
    {
     "data": {
      "text/plain": [
       "'pranawa is very beautiful'"
      ]
     },
     "execution_count": 39,
     "metadata": {},
     "output_type": "execute_result"
    }
   ],
   "source": [
    "with  open(filepath, 'w')  as file: # for assigning the value we use as keyword\n",
    "    file.write('context manager ops') # we don't have to close the file manually\n",
    "    \n",
    "'pranawa is very beautiful'"
   ]
  },
  {
   "cell_type": "code",
   "execution_count": 40,
   "metadata": {},
   "outputs": [
    {
     "data": {
      "text/plain": [
       "['.a',\n",
       " '.gitignore',\n",
       " 'comprension.ipynb',\n",
       " 'fileHandling.ipynb',\n",
       " 'firstclass.ipynb',\n",
       " 'function.ipynb',\n",
       " 'Include',\n",
       " 'Lib',\n",
       " 'list.ipynb',\n",
       " 'loops.ipynb',\n",
       " 'pyvenv.cfg',\n",
       " 'Scripts',\n",
       " 'share',\n",
       " 'temp.txt',\n",
       " 'tuple.ipynb']"
      ]
     },
     "execution_count": 40,
     "metadata": {},
     "output_type": "execute_result"
    }
   ],
   "source": [
    "import os \n",
    "os.listdir()"
   ]
  },
  {
   "cell_type": "code",
   "execution_count": 43,
   "metadata": {},
   "outputs": [],
   "source": [
    "filepath = '.a/b/c/tempt.txt'   # file name = basename\n",
    "directory=os.path.dirname(filepath)\n",
    "os.makedirs(directory, exist_ok = True) # already cha bhaney create nagarney natra create garney\n",
    "\n"
   ]
  },
  {
   "cell_type": "code",
   "execution_count": 42,
   "metadata": {},
   "outputs": [],
   "source": [
    "file =open(filepath,'w')\n",
    "file.close()"
   ]
  }
 ],
 "metadata": {
  "kernelspec": {
   "display_name": "pranawa",
   "language": "python",
   "name": "python3"
  },
  "language_info": {
   "codemirror_mode": {
    "name": "ipython",
    "version": 3
   },
   "file_extension": ".py",
   "mimetype": "text/x-python",
   "name": "python",
   "nbconvert_exporter": "python",
   "pygments_lexer": "ipython3",
   "version": "3.13.0"
  }
 },
 "nbformat": 4,
 "nbformat_minor": 2
}
