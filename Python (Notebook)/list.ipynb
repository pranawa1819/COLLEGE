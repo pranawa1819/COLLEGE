{
 "cells": [
  {
   "cell_type": "code",
   "execution_count": 179,
   "metadata": {},
   "outputs": [],
   "source": [
    "l1 = []"
   ]
  },
  {
   "cell_type": "code",
   "execution_count": 180,
   "metadata": {},
   "outputs": [
    {
     "name": "stdout",
     "output_type": "stream",
     "text": [
      "The type of l1 is :  <class 'list'>\n"
     ]
    }
   ],
   "source": [
    "print (\"The type of l1 is : \",type(l1))"
   ]
  },
  {
   "cell_type": "code",
   "execution_count": 181,
   "metadata": {},
   "outputs": [
    {
     "data": {
      "text/plain": [
       "list"
      ]
     },
     "execution_count": 181,
     "metadata": {},
     "output_type": "execute_result"
    }
   ],
   "source": [
    "l2=list()\n",
    "type(l2)"
   ]
  },
  {
   "cell_type": "code",
   "execution_count": null,
   "metadata": {},
   "outputs": [],
   "source": []
  },
  {
   "cell_type": "code",
   "execution_count": 182,
   "metadata": {},
   "outputs": [
    {
     "name": "stdout",
     "output_type": "stream",
     "text": [
      "Before:  []\n",
      "After:  [1]\n"
     ]
    }
   ],
   "source": [
    "print(\"Before: \",l1)\n",
    "l1.append(1)\n",
    "print(\"After: \",l1)"
   ]
  },
  {
   "cell_type": "code",
   "execution_count": 183,
   "metadata": {},
   "outputs": [
    {
     "name": "stdout",
     "output_type": "stream",
     "text": [
      "Before:  [1]\n",
      "After:  [1, []]\n"
     ]
    }
   ],
   "source": [
    "print(\"Before: \",l1)\n",
    "l1.append(l2) # element are insert at the last of the list\n",
    "print(\"After: \",l1)"
   ]
  },
  {
   "cell_type": "code",
   "execution_count": 184,
   "metadata": {},
   "outputs": [
    {
     "name": "stdout",
     "output_type": "stream",
     "text": [
      "Before:  [1, []]\n",
      "After:  ['inserted', 1, []]\n"
     ]
    }
   ],
   "source": [
    "print(\"Before: \",l1)\n",
    "l1.insert(0,\"inserted\") # element will be insert at the first \n",
    "print(\"After: \",l1)"
   ]
  },
  {
   "cell_type": "code",
   "execution_count": 185,
   "metadata": {},
   "outputs": [
    {
     "name": "stdout",
     "output_type": "stream",
     "text": [
      "Before:  ['inserted', 1, []]\n",
      "After:  ['inserted', 'Hello', 1, []]\n"
     ]
    }
   ],
   "source": [
    "print(\"Before: \",l1)\n",
    "l1.insert(1,\"Hello\") # element will be insert at the first \n",
    "print(\"After: \",l1)"
   ]
  },
  {
   "cell_type": "code",
   "execution_count": 186,
   "metadata": {},
   "outputs": [
    {
     "name": "stdout",
     "output_type": "stream",
     "text": [
      "Before:  ['inserted', 'Hello', 1, []]\n",
      "After:  ['inserted', 'Hello', 1, [], 'a', 'b', 'c', 'd']\n"
     ]
    }
   ],
   "source": [
    "print(\"Before: \",l1)\n",
    "temp =['a','b','c','d']\n",
    "l1.extend(temp) # \n",
    "\n",
    "print(\"After: \",l1)\n"
   ]
  },
  {
   "cell_type": "code",
   "execution_count": 187,
   "metadata": {},
   "outputs": [
    {
     "name": "stdout",
     "output_type": "stream",
     "text": [
      "Before:  ['inserted', 'Hello', 1, [], 'a', 'b', 'c', 'd']\n",
      "After:  ['inserted', 'Hello', 1, 'a', 'b', 'c', 'd']\n"
     ]
    }
   ],
   "source": [
    "print(\"Before: \",l1)\n",
    "l1.remove([]) # remove the first occurence if there are two same elemets\n",
    "print(\"After: \",l1)"
   ]
  },
  {
   "cell_type": "code",
   "execution_count": 188,
   "metadata": {},
   "outputs": [
    {
     "name": "stdout",
     "output_type": "stream",
     "text": [
      "Before:  ['inserted', 'Hello', 1, 'a', 'b', 'c', 'd']\n",
      "popped_value ='d'\n",
      "After:  ['inserted', 'Hello', 1, 'a', 'b', 'c']\n"
     ]
    }
   ],
   "source": [
    "print(\"Before: \",l1)\n",
    "popped_value = l1.pop()# remove and return item at index(default last)\n",
    "print(f\"{popped_value =}\")\n",
    "print(\"After: \",l1)"
   ]
  },
  {
   "cell_type": "code",
   "execution_count": 189,
   "metadata": {},
   "outputs": [
    {
     "name": "stdout",
     "output_type": "stream",
     "text": [
      "Before:  ['inserted', 'Hello', 1, 'a', 'b', 'c']\n",
      "After:  ['c', 'b', 'a', 1, 'Hello', 'inserted']\n"
     ]
    }
   ],
   "source": [
    "print(\"Before: \",l1)\n",
    "l1.reverse() # it will reverse the order of the list\n",
    "print(\"After: \",l1)"
   ]
  },
  {
   "cell_type": "code",
   "execution_count": 190,
   "metadata": {},
   "outputs": [
    {
     "data": {
      "text/plain": [
       "['c', 'b', 'a', 1, 'Hello', 'inserted', 'a', 'b', 'c', 'd']"
      ]
     },
     "execution_count": 190,
     "metadata": {},
     "output_type": "execute_result"
    }
   ],
   "source": [
    "l1 + temp"
   ]
  },
  {
   "cell_type": "code",
   "execution_count": 191,
   "metadata": {},
   "outputs": [
    {
     "name": "stdout",
     "output_type": "stream",
     "text": [
      "Before:  ['c', 'b', 'a', 1, 'Hello', 'inserted']\n",
      "After:  1\n"
     ]
    }
   ],
   "source": [
    "print(\"Before: \",l1)\n",
    "cmt=l1.count('a')\n",
    "\n",
    "print(\"After: \",cmt)"
   ]
  },
  {
   "cell_type": "code",
   "execution_count": 192,
   "metadata": {},
   "outputs": [
    {
     "name": "stdout",
     "output_type": "stream",
     "text": [
      "Count =  2\n"
     ]
    }
   ],
   "source": [
    "l3=l1+temp\n",
    "count = l3.count('a')\n",
    "print(\"Count = \",count)"
   ]
  },
  {
   "cell_type": "code",
   "execution_count": 193,
   "metadata": {},
   "outputs": [
    {
     "name": "stdout",
     "output_type": "stream",
     "text": [
      "Befor:  ['c', 'b', 'a', 1, 'Hello', 'inserted', ['5']]\n",
      "L4 =  ['c', 'b', 'a', 1, 'Hello', 'inserted', ['5']]\n"
     ]
    }
   ],
   "source": [
    "l1.append(['5'])\n",
    "print(\"Befor: \",l1)\n",
    "l4=l1.copy()\n",
    "print(\"L4 = \",l4)"
   ]
  },
  {
   "cell_type": "code",
   "execution_count": null,
   "metadata": {},
   "outputs": [
    {
     "data": {
      "text/plain": [
       "'b'"
      ]
     },
     "execution_count": 194,
     "metadata": {},
     "output_type": "execute_result"
    }
   ],
   "source": [
    "#indexing using positive case\n",
    "\n",
    "l1[1]"
   ]
  },
  {
   "cell_type": "code",
   "execution_count": null,
   "metadata": {},
   "outputs": [
    {
     "data": {
      "text/plain": [
       "['5']"
      ]
     },
     "execution_count": 195,
     "metadata": {},
     "output_type": "execute_result"
    }
   ],
   "source": [
    "#indexing using negative case\n",
    "l1[-1]"
   ]
  },
  {
   "cell_type": "markdown",
   "metadata": {},
   "source": [
    "> ### Slicing"
   ]
  },
  {
   "cell_type": "code",
   "execution_count": 197,
   "metadata": {},
   "outputs": [
    {
     "data": {
      "text/plain": [
       "[1, 2, 3, 4, 5, 6, 7, 8, 9]"
      ]
     },
     "execution_count": 197,
     "metadata": {},
     "output_type": "execute_result"
    }
   ],
   "source": [
    "l1=[1,2,3,4,5,6,7,8,9]\n",
    "l1[::]        #by default\n"
   ]
  },
  {
   "cell_type": "code",
   "execution_count": null,
   "metadata": {},
   "outputs": [
    {
     "data": {
      "text/plain": [
       "[1, 2, 3, 4, 5, 6, 7, 8, 9]"
      ]
     },
     "execution_count": 199,
     "metadata": {},
     "output_type": "execute_result"
    }
   ],
   "source": [
    "l1[0:9:1]  #A[starting.ending.step size]"
   ]
  },
  {
   "cell_type": "code",
   "execution_count": null,
   "metadata": {},
   "outputs": [
    {
     "data": {
      "text/plain": [
       "[5, 7, 9]"
      ]
     },
     "execution_count": 201,
     "metadata": {},
     "output_type": "execute_result"
    }
   ],
   "source": [
    "l1[4::]"
   ]
  },
  {
   "cell_type": "code",
   "execution_count": null,
   "metadata": {},
   "outputs": [],
   "source": [
    "l1[4::2]"
   ]
  },
  {
   "cell_type": "code",
   "execution_count": 202,
   "metadata": {},
   "outputs": [
    {
     "data": {
      "text/plain": [
       "[3, 6]"
      ]
     },
     "execution_count": 202,
     "metadata": {},
     "output_type": "execute_result"
    }
   ],
   "source": [
    "l1[2:7:3]"
   ]
  },
  {
   "cell_type": "code",
   "execution_count": null,
   "metadata": {},
   "outputs": [
    {
     "data": {
      "text/plain": [
       "[9, 8, 7, 6, 5, 4, 3, 2, 1]"
      ]
     },
     "execution_count": 203,
     "metadata": {},
     "output_type": "execute_result"
    }
   ],
   "source": [
    "l1[::-1] # reverse the list by negative stepsize"
   ]
  },
  {
   "cell_type": "code",
   "execution_count": 204,
   "metadata": {},
   "outputs": [
    {
     "data": {
      "text/plain": [
       "[8, 7, 6, 5, 4]"
      ]
     },
     "execution_count": 204,
     "metadata": {},
     "output_type": "execute_result"
    }
   ],
   "source": [
    "l1[-2:-7:-1]"
   ]
  }
 ],
 "metadata": {
  "kernelspec": {
   "display_name": "pranawa",
   "language": "python",
   "name": "python3"
  },
  "language_info": {
   "codemirror_mode": {
    "name": "ipython",
    "version": 3
   },
   "file_extension": ".py",
   "mimetype": "text/x-python",
   "name": "python",
   "nbconvert_exporter": "python",
   "pygments_lexer": "ipython3",
   "version": "3.13.0"
  }
 },
 "nbformat": 4,
 "nbformat_minor": 2
}
