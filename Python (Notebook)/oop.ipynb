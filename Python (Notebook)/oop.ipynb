{
 "cells": [
  {
   "cell_type": "code",
   "execution_count": 1,
   "metadata": {},
   "outputs": [],
   "source": [
    "class ClassName : # we write in pascal case \n",
    "    #construction\n",
    "    #construction name should be always __init__\n",
    "    \n",
    "    def __init__(self):\n",
    "        pass\n",
    "    \n",
    "    \n",
    "    #methods\n",
    "    def method_one(self):\n",
    "        pass\n",
    "\n",
    "object = ClassName()\n",
    "object.method_one()"
   ]
  },
  {
   "cell_type": "code",
   "execution_count": 2,
   "metadata": {},
   "outputs": [
    {
     "name": "stdout",
     "output_type": "stream",
     "text": [
      "The age of the human is  20\n",
      "The age of the human is  35\n"
     ]
    }
   ],
   "source": [
    "class Human:\n",
    "    def __init__(self, age): # self is the parameter of class we use self in every method \n",
    "        self.age = age\n",
    "        \n",
    "human1 = Human(20)\n",
    "human2=Human(35)\n",
    "print(\"The age of the human is \",human1.age)\n",
    "print(\"The age of the human is \",human2.age)"
   ]
  },
  {
   "cell_type": "code",
   "execution_count": 3,
   "metadata": {},
   "outputs": [
    {
     "name": "stdout",
     "output_type": "stream",
     "text": [
      "Human age is 20\n",
      "Human age is 21\n"
     ]
    }
   ],
   "source": [
    "class Human:\n",
    "    def __init__(self, age):\n",
    "        self.age = age\n",
    "    \n",
    "    def details(self, temp):\n",
    "        print(f\"Human age is {self.age}\")\n",
    "    \n",
    "    def age_incrementor(self):\n",
    "        self.age += 1\n",
    " \n",
    "human1 = Human(20)\n",
    "human2 = Human(35) \n",
    "   \n",
    "human1.details('')\n",
    "human1.age_incrementor()\n",
    "human1.details('')\n",
    "\n"
   ]
  },
  {
   "cell_type": "code",
   "execution_count": 4,
   "metadata": {},
   "outputs": [
    {
     "name": "stdout",
     "output_type": "stream",
     "text": [
      "Human age is 20\n"
     ]
    },
    {
     "data": {
      "text/plain": [
       "21"
      ]
     },
     "execution_count": 4,
     "metadata": {},
     "output_type": "execute_result"
    }
   ],
   "source": [
    "class Human:\n",
    "    def __init__(self, age):\n",
    "        self.age = age\n",
    "    \n",
    "    def details(self, temp):\n",
    "        print(f\"Human age is {self.age}\")\n",
    "    \n",
    "    def age_incrementor(self):\n",
    "      return  self.age + 1\n",
    "  \n",
    "human1 = Human(20)\n",
    "human2 = Human(35) \n",
    "   \n",
    "human1.details('')\n",
    "human1.age_incrementor()\n"
   ]
  },
  {
   "cell_type": "code",
   "execution_count": 5,
   "metadata": {},
   "outputs": [
    {
     "data": {
      "text/plain": [
       "20"
      ]
     },
     "execution_count": 5,
     "metadata": {},
     "output_type": "execute_result"
    }
   ],
   "source": [
    "human1.age"
   ]
  },
  {
   "cell_type": "markdown",
   "metadata": {},
   "source": [
    ">### \" Inheritance \"\n",
    "- Single inheritance\n",
    "- Multilevel inheritance\n",
    "- Multiple inheritance\n",
    "- Hierarchial inheritance"
   ]
  },
  {
   "cell_type": "code",
   "execution_count": 6,
   "metadata": {},
   "outputs": [
    {
     "data": {
      "text/plain": [
       "('Sita', 'Shyam')"
      ]
     },
     "execution_count": 6,
     "metadata": {},
     "output_type": "execute_result"
    }
   ],
   "source": [
    "# Single Inheritance\n",
    "\n",
    "class Parent:\n",
    "    def __init__(self,parent_name):\n",
    "        self.parent_name=parent_name\n",
    "        \n",
    "    def parent_details(self):\n",
    "        print('Parent details is called')\n",
    "        \n",
    "        \n",
    "class Child(Parent): # child class inherite the parent\n",
    "    def __init__(self,parent_name,child_name):\n",
    "        #super().__init__()     # initilize the parent class 1) it is useless while using multiple inheritance\n",
    "        Parent.__init__(self,parent_name)\n",
    "        \n",
    "        self.child_name =child_name\n",
    "        \n",
    "child = Child(parent_name = \"Sita\", child_name = \"Shyam\")\n",
    "child.parent_name,child.child_name\n"
   ]
  },
  {
   "cell_type": "code",
   "execution_count": 7,
   "metadata": {},
   "outputs": [
    {
     "name": "stdout",
     "output_type": "stream",
     "text": [
      "Parent details is called\n"
     ]
    }
   ],
   "source": [
    "child.parent_details()"
   ]
  },
  {
   "cell_type": "code",
   "execution_count": 8,
   "metadata": {},
   "outputs": [],
   "source": [
    "# Multilevel inheritance\n",
    "\n",
    "class Grandparents:\n",
    "    def __init__(self,grand_name):  \n",
    "     self.grand_name=grand_name\n",
    "        \n",
    "\n",
    "class Parents(Grandparents):\n",
    "   def __init__(self,grand_name,parent_name):\n",
    "     Grandparents.__init__(self,grand_name)\n",
    "     self.parent_name=parent_name\n",
    "         \n",
    "class Childs(Parents):\n",
    "    def __init__(self,grand_name, parent_name,child_name):\n",
    "      Parents.__init__(self,grand_name,parent_name)\n",
    "      self.child_name=child_name\n",
    "        \n",
    "\n"
   ]
  },
  {
   "cell_type": "code",
   "execution_count": 9,
   "metadata": {},
   "outputs": [
    {
     "name": "stdout",
     "output_type": "stream",
     "text": [
      "Ram\n"
     ]
    }
   ],
   "source": [
    "child1=Childs('Ram','Janaki','Shiv')\n",
    "print(child1.grand_name)"
   ]
  },
  {
   "cell_type": "code",
   "execution_count": 10,
   "metadata": {},
   "outputs": [
    {
     "name": "stdout",
     "output_type": "stream",
     "text": [
      "The name of father is  Tina\n",
      "The name of father is  Mendak\n"
     ]
    }
   ],
   "source": [
    "#Multiple Inheritance\n",
    "class Father:\n",
    "    def __init__(self,father_name):  \n",
    "     self.father_name=father_name\n",
    "        \n",
    "\n",
    "class Mother():\n",
    "   def __init__(self,mother_name):\n",
    "     self.mother_name=mother_name\n",
    "         \n",
    "class Childes(Father,Mother):\n",
    "    def __init__(self,father_name, mother_name,child_name):\n",
    "      Father.__init__(self,father_name)\n",
    "      Mother.__init__(self,mother_name)\n",
    "      self.child_name=child_name\n",
    "      \n",
    "child2 = Childes('Tina','Mendak','Panda')\n",
    "print(\"The name of father is \",child2.father_name)\n",
    "print(\"The name of father is \",child2.mother_name)"
   ]
  }
 ],
 "metadata": {
  "kernelspec": {
   "display_name": "pranawa",
   "language": "python",
   "name": "python3"
  },
  "language_info": {
   "codemirror_mode": {
    "name": "ipython",
    "version": 3
   },
   "file_extension": ".py",
   "mimetype": "text/x-python",
   "name": "python",
   "nbconvert_exporter": "python",
   "pygments_lexer": "ipython3",
   "version": "3.13.0"
  }
 },
 "nbformat": 4,
 "nbformat_minor": 2
}
