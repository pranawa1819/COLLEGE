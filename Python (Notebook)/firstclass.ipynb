{
 "cells": [
  {
   "cell_type": "code",
   "execution_count": 7,
   "metadata": {},
   "outputs": [
    {
     "name": "stdout",
     "output_type": "stream",
     "text": [
      "Value of brand :  addidas\n",
      "Data Type  of brand :  <class 'str'>\n"
     ]
    }
   ],
   "source": [
    "brand =\"addidas\"\n",
    "print(\"Value of brand : \",brand)\n",
    "print(\"Data Type  of brand : \",type( brand))"
   ]
  },
  {
   "cell_type": "code",
   "execution_count": 8,
   "metadata": {},
   "outputs": [
    {
     "name": "stdout",
     "output_type": "stream",
     "text": [
      "Value of brand(after) :  10\n",
      "Data Type  of brand(after) :  <class 'int'>\n"
     ]
    }
   ],
   "source": [
    "brand =10\n",
    "print(\"Value of brand(after) : \",brand)\n",
    "print(\"Data Type  of brand(after) : \",type( brand))"
   ]
  },
  {
   "cell_type": "code",
   "execution_count": 9,
   "metadata": {},
   "outputs": [
    {
     "name": "stdout",
     "output_type": "stream",
     "text": [
      "5\n"
     ]
    }
   ],
   "source": [
    "a = 5\n",
    "print(a)"
   ]
  },
  {
   "cell_type": "code",
   "execution_count": 10,
   "metadata": {},
   "outputs": [
    {
     "name": "stdout",
     "output_type": "stream",
     "text": [
      "5\n",
      "3\n",
      "4\n"
     ]
    }
   ],
   "source": [
    "a,b,c=5,3,4\n",
    "print(a)\n",
    "print(b)\n",
    "print(c)"
   ]
  },
  {
   "cell_type": "code",
   "execution_count": 11,
   "metadata": {},
   "outputs": [
    {
     "name": "stdout",
     "output_type": "stream",
     "text": [
      "('mango', 'apple', 'grapes')\n"
     ]
    }
   ],
   "source": [
    "fruits = \"mango\",\"apple\" , \"grapes\"\n",
    "print(fruits)"
   ]
  },
  {
   "cell_type": "code",
   "execution_count": 12,
   "metadata": {},
   "outputs": [
    {
     "name": "stdout",
     "output_type": "stream",
     "text": [
      "['mango', 'apple', 'grapes']\n",
      "a\n",
      "b\n"
     ]
    }
   ],
   "source": [
    "*fruits,a,b=[\"mango\",\"apple\" , \"grapes\",'a','b']\n",
    "print(fruits)\n",
    "print(a)\n",
    "print(b)"
   ]
  },
  {
   "cell_type": "code",
   "execution_count": 13,
   "metadata": {},
   "outputs": [
    {
     "name": "stdout",
     "output_type": "stream",
     "text": [
      "mango\n",
      "['apple', 'grapes', 'a']\n",
      "b\n"
     ]
    }
   ],
   "source": [
    "first,*middle,last=[\"mango\",\"apple\" , \"grapes\",'a','b']\n",
    "print(first)\n",
    "print(middle)\n",
    "print(last)"
   ]
  },
  {
   "cell_type": "code",
   "execution_count": null,
   "metadata": {},
   "outputs": [
    {
     "name": "stdout",
     "output_type": "stream",
     "text": [
      "15.1\n",
      "The data type pf b is:  <class 'float'>\n"
     ]
    }
   ],
   "source": [
    "b=15\n",
    "b+=0.1\n",
    "print(b)\n",
    "print(\"The data type pf b is: \")"
   ]
  },
  {
   "cell_type": "code",
   "execution_count": 37,
   "metadata": {},
   "outputs": [
    {
     "name": "stdout",
     "output_type": "stream",
     "text": [
      "['   NCCS is i', ' Kathma', 'du.  ']\n",
      "26\n",
      "   NCCS IS IN KATHMANDU.  \n",
      "   nccs is in kathmandu.  \n",
      "   Nccs Is In Kathmandu.  \n",
      "   nccs IS IN kATHMANDU.  \n",
      "   nccs is in kathmandu.  \n",
      "False\n",
      "False\n",
      "   NCCS ps pn Kathmandu.  \n",
      "NCCS is in Kathmandu.\n",
      "NCCS is in Kathmandu.  \n",
      "   NCCS is in Kathmandu.\n"
     ]
    }
   ],
   "source": [
    "\n",
    "#String Methods\n",
    "txt= \"   NCCS is in Kathmandu.  \"\n",
    "print(txt.split(\"n\"))\n",
    "print(len(txt))\n",
    "print(txt.upper())\n",
    "print(txt.lower())\n",
    "print(txt.title())\n",
    "print(txt.swapcase())\n",
    "print(txt.capitalize())\n",
    "print(txt.endswith(\"u.\"))\n",
    "print(txt.startswith(\"N\"))\n",
    "print(txt.replace(\"i\",\"p\"))\n",
    "print(txt.strip())\n",
    "print(txt.lstrip())\n",
    "print(txt.rstrip())\n"
   ]
  },
  {
   "cell_type": "code",
   "execution_count": 1,
   "metadata": {},
   "outputs": [
    {
     "data": {
      "text/plain": [
       "True"
      ]
     },
     "execution_count": 1,
     "metadata": {},
     "output_type": "execute_result"
    }
   ],
   "source": [
    "#identity operator\n",
    "a=[2]\n",
    "b=a \n",
    "a is b"
   ]
  },
  {
   "cell_type": "code",
   "execution_count": 2,
   "metadata": {},
   "outputs": [
    {
     "data": {
      "text/plain": [
       "False"
      ]
     },
     "execution_count": 2,
     "metadata": {},
     "output_type": "execute_result"
    }
   ],
   "source": [
    "# membership operator\n",
    "5 in [1,2,3,4]"
   ]
  },
  {
   "cell_type": "code",
   "execution_count": 4,
   "metadata": {},
   "outputs": [
    {
     "data": {
      "text/plain": [
       "True"
      ]
     },
     "execution_count": 4,
     "metadata": {},
     "output_type": "execute_result"
    }
   ],
   "source": [
    "5 not in [1,2,6,7]"
   ]
  }
 ],
 "metadata": {
  "kernelspec": {
   "display_name": "pranawa",
   "language": "python",
   "name": "python3"
  },
  "language_info": {
   "codemirror_mode": {
    "name": "ipython",
    "version": 3
   },
   "file_extension": ".py",
   "mimetype": "text/x-python",
   "name": "python",
   "nbconvert_exporter": "python",
   "pygments_lexer": "ipython3",
   "version": "3.13.0"
  }
 },
 "nbformat": 4,
 "nbformat_minor": 2
}
